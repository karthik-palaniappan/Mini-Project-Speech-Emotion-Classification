{
  "nbformat": 4,
  "nbformat_minor": 5,
  "metadata": {
    "colab": {
      "provenance": [],
      "include_colab_link": true
    },
    "kernelspec": {
      "display_name": "Python 3",
      "language": "python",
      "name": "python3"
    },
    "language_info": {
      "codemirror_mode": {
        "name": "ipython",
        "version": 3
      },
      "file_extension": ".py",
      "mimetype": "text/x-python",
      "name": "python",
      "nbconvert_exporter": "python",
      "pygments_lexer": "ipython3",
      "version": "3.6.9"
    }
  },
  "cells": [
    {
      "cell_type": "markdown",
      "metadata": {
        "id": "view-in-github",
        "colab_type": "text"
      },
      "source": [
        "<a href=\"https://colab.research.google.com/github/karthik-palaniappan/Mini-Project-Speech-Emotion-Classification/blob/main/T7_Copy_of_M2_NB_MiniProject_3_Emotion_Classification_from_Speech.ipynb\" target=\"_parent\"><img src=\"https://colab.research.google.com/assets/colab-badge.svg\" alt=\"Open In Colab\"/></a>"
      ]
    },
    {
      "cell_type": "markdown",
      "metadata": {
        "id": "associate-sunset"
      },
      "source": [
        "# Advanced Certification Program in Computational Data Science\n",
        "## A program by IISc and TalentSprint\n",
        "### Mini-Project: Speech Emotion Classification"
      ],
      "id": "associate-sunset"
    },
    {
      "cell_type": "markdown",
      "metadata": {
        "id": "handled-tooth"
      },
      "source": [
        "## Problem Statement"
      ],
      "id": "handled-tooth"
    },
    {
      "cell_type": "markdown",
      "metadata": {
        "id": "accessory-watts"
      },
      "source": [
        "Build a model to recognize emotion from speech using Ensemble learning"
      ],
      "id": "accessory-watts"
    },
    {
      "cell_type": "markdown",
      "metadata": {
        "id": "twenty-indonesia"
      },
      "source": [
        "## Learning Objectives"
      ],
      "id": "twenty-indonesia"
    },
    {
      "cell_type": "markdown",
      "metadata": {
        "id": "honest-friendship"
      },
      "source": [
        "At the end of the mini-project, you will be able to :\n",
        "\n",
        "* extract the features from audio data\n",
        "* implement ML classification algorithms individually and as Ensembles, to classify emotions\n",
        "* record the voice sample and test it with trained model"
      ],
      "id": "honest-friendship"
    },
    {
      "cell_type": "markdown",
      "metadata": {
        "id": "lesbian-bottom"
      },
      "source": [
        "## Dataset"
      ],
      "id": "lesbian-bottom"
    },
    {
      "cell_type": "markdown",
      "metadata": {
        "id": "fixed-trainer"
      },
      "source": [
        "**TESS Dataset**\n",
        "\n",
        "The first dataset chosen for this mini-project is the [TESS](https://dataverse.scholarsportal.info/dataset.xhtml?persistentId=doi:10.5683/SP2/E8H2MF) (Toronto emotional speech set) dataset. It contains 2880 files.  A set of 200 target words were spoken in the carrier phrase \"Say the word _____' by two actresses and the sets were recorded in seven different emotions (anger, disgust, fear, happiness, pleasant surprise, sadness, and neutral). Both actresses spoke English as their first language, were university educated, and had musical training. Audiometric testing indicated that both actresses had thresholds within the normal range."
      ],
      "id": "fixed-trainer"
    },
    {
      "cell_type": "markdown",
      "metadata": {
        "id": "Roo5A2aLVI07"
      },
      "source": [
        "**Ravdess Dataset**\n",
        "\n",
        "The second dataset chosen for this mini-project is [Ravdess](https://zenodo.org/record/1188976#.YLczy4XivIU) (The Ryerson Audio-Visual Database of Emotional Speech and Song). This dataset contains 1440 files: 60 trials per actor x 24 actors = 1440. The RAVDESS contains 24 professional actors (12 female, 12 male), vocalizing two lexically-matched statements in a neutral North American accent. Speech emotions includes calm, happy, sad, angry, fearful, surprise, and disgust expressions. Each expression is produced at two levels of emotional intensity (normal, strong), with an additional neutral expression.\n",
        "\n",
        "**File naming convention**\n",
        "\n",
        "Each of the 1440 files has a unique filename. The filename consists of a 7-part numerical identifier (e.g., 03-01-06-01-02-01-12.wav). These identifiers define the stimulus characteristics:\n",
        "\n",
        "**Filename identifiers**\n",
        "\n",
        "* Modality (01 = full-AV, 02 = video-only, 03 = audio-only).\n",
        "* Vocal channel (01 = speech, 02 = song).\n",
        "* Emotion (01 = neutral, 02 = calm, 03 = happy, 04 = sad, 05 = angry, 06 = fearful, 07 = disgust, 08 = surprised).\n",
        "* Emotional intensity (01 = normal, 02 = strong). NOTE: There is no strong intensity for the 'neutral' emotion.\n",
        "* Statement (01 = \"Kids are talking by the door\", 02 = \"Dogs are sitting by the door\").\n",
        "* Repetition (01 = 1st repetition, 02 = 2nd repetition).\n",
        "* Actor (01 to 24. Odd numbered actors are male, even numbered actors are female).\n",
        "\n",
        "Filename example: `03-01-06-01-02-01-12.wav`\n",
        "\n",
        "    - Audio-only - 03\n",
        "    - Speech - 01\n",
        "    - Fearful - 06\n",
        "    - Normal intensity - 01\n",
        "    - Statement \"dogs\" - 02\n",
        "    - 1st Repetition - 01\n",
        "    - 12th Actor - 12 Female, as the actor ID number is even."
      ],
      "id": "Roo5A2aLVI07"
    },
    {
      "cell_type": "markdown",
      "metadata": {
        "id": "GIR6a6TvVnRY"
      },
      "source": [
        "## Information"
      ],
      "id": "GIR6a6TvVnRY"
    },
    {
      "cell_type": "markdown",
      "metadata": {
        "id": "mediterranean-february"
      },
      "source": [
        "**Speech Emotion Recognition (SER)** is the task of recognizing the emotion from  speech, irrespective of the semantics. Humans can efficiently perform this task as a natural part of speech communication, however, the ability to conduct it automatically using programmable devices is a field of active research.\n",
        "\n",
        "Studies of automatic emotion recognition systems aim to create efficient, real-time methods of detecting the emotions of mobile phone users, call center operators and customers, car drivers, pilots, and many other human-machine communication users. Adding emotions to machines forms an important aspect of making machines appear and act in a human-like manner\n",
        "\n",
        "Lets gain familiarity with some of the audio based features that are commonly used for SER.\n",
        "\n",
        "**Mel scale** — The mel scale (derived from the word *melody*) is a perceptual scale of pitches judged by listeners to be equal in distance from one another. The reference point between this scale and normal frequency measurement is defined by assigning a perceptual pitch of 1000 mels to a 1000 Hz tone, 40 dB above the listener's threshold. Above about 500 Hz, increasingly large intervals are judged by listeners to produce equal pitch increments. Refer [here](https://towardsdatascience.com/learning-from-audio-the-mel-scale-mel-spectrograms-and-mel-frequency-cepstral-coefficients-f5752b6324a8) for more detailed information.\n",
        "\n",
        "**Pitch** — how high or low a sound is. It depends on frequency, higher pitch is high frequency\n",
        "\n",
        "**Frequency** — speed of vibration of sound, measures wave cycles per second\n",
        "\n",
        "**Chroma** — Representation for audio where spectrum is projected onto 12 bins representing the 12 distinct semitones (or chroma). Computed by summing the log frequency magnitude spectrum across octaves.\n",
        "\n",
        "**Fourier Transforms** — used to convert from time domain to frequency domain. Time domain shows how signal changes over time. Frequency domain shows how much of the signal lies within each given frequency band over a range of frequencies"
      ],
      "id": "mediterranean-february"
    },
    {
      "cell_type": "markdown",
      "metadata": {
        "id": "Q5a6Dz9wCxOc"
      },
      "source": [
        "**Librosa**\n",
        "\n",
        "[Librosa](https://librosa.org/doc/latest/index.html) is a Python package, built for speech and audio analytics. It provides modular functions that simplify working with audio data and help in achieving a wide range of applications such as identification of the personal characteristics of different individuals' voice samples, detecting emotions from audio samples etc.\n",
        "\n",
        "For further details on the Librosa package, refer [here](https://conference.scipy.org/proceedings/scipy2015/pdfs/brian_mcfee.pdf).\n"
      ],
      "id": "Q5a6Dz9wCxOc"
    },
    {
      "cell_type": "markdown",
      "source": [
        "### **Kaggle Competition**"
      ],
      "metadata": {
        "id": "3fjmaAe32Z_K"
      },
      "id": "3fjmaAe32Z_K"
    },
    {
      "cell_type": "markdown",
      "source": [
        "Please refer to the link for viewing the\n",
        "[Kaggle Competition Document](https://drive.google.com/file/d/1kGJfpEC9dayjApciCYZr04NWT7XWkRhV/view?usp=sharing) and join the Kaggle Competition using the hyperlink given in this document under '*Kaggle* Competition site'.\n"
      ],
      "metadata": {
        "id": "y4yw7Ewy09Ut"
      },
      "id": "y4yw7Ewy09Ut"
    },
    {
      "cell_type": "markdown",
      "metadata": {
        "id": "operating-latter"
      },
      "source": [
        "## Grading = 10 Points"
      ],
      "id": "operating-latter"
    },
    {
      "cell_type": "code",
      "metadata": {
        "id": "talented-upset",
        "colab": {
          "base_uri": "https://localhost:8080/"
        },
        "outputId": "c24a2753-53c5-4917-8e49-3a002dcd8922"
      },
      "source": [
        "#@title Download the datasets and install packages\n",
        "!wget -qq https://cdn.iisc.talentsprint.com/CDS/MiniProjects/Ravdess_Tess.zip\n",
        "!unzip -qq Ravdess_Tess.zip\n",
        "# Install packages\n",
        "!pip -qq install librosa soundfile\n",
        "!pip -qq install wavio\n",
        "print(\"Datasets downloaded successfully!\")"
      ],
      "id": "talented-upset",
      "execution_count": 2,
      "outputs": [
        {
          "output_type": "stream",
          "name": "stdout",
          "text": [
            "Datasets downloaded successfully!\n"
          ]
        }
      ]
    },
    {
      "cell_type": "markdown",
      "metadata": {
        "id": "appreciated-pattern"
      },
      "source": [
        "### Import Neccesary Packages"
      ],
      "id": "appreciated-pattern"
    },
    {
      "cell_type": "code",
      "metadata": {
        "id": "loose-marsh"
      },
      "source": [
        "import librosa\n",
        "import librosa.display\n",
        "import soundfile\n",
        "import os, glob, pickle\n",
        "import numpy as np\n",
        "import pandas as pd\n",
        "import IPython.display as ipd\n",
        "from matplotlib import pyplot as plt\n",
        "from datetime import datetime\n",
        "from IPython.display import Javascript\n",
        "from google.colab import output\n",
        "from base64 import b64decode\n",
        "import warnings\n",
        "warnings.filterwarnings('ignore')\n",
        "# sklearn\n",
        "from sklearn.model_selection import train_test_split\n",
        "from sklearn.metrics import accuracy_score\n",
        "from sklearn.linear_model import LogisticRegression\n",
        "from sklearn.ensemble import RandomForestClassifier\n",
        "from sklearn.svm import SVC\n",
        "from sklearn import tree\n",
        "from sklearn.ensemble import VotingClassifier"
      ],
      "id": "loose-marsh",
      "execution_count": 3,
      "outputs": []
    },
    {
      "cell_type": "markdown",
      "metadata": {
        "id": "2vxa85gvorY5"
      },
      "source": [
        "### Work-Flow\n",
        "\n",
        "* Load the TESS audio data and extract features and labels\n",
        "\n",
        "* Load the Ravdess audio data and extract features\n",
        "\n",
        "* Combine both the audio dataset features\n",
        "\n",
        "* Train and test the model with TESS + Ravdess Data\n",
        "\n",
        "* Record the team audio samples and add them to TESS + Ravdess data\n",
        "\n",
        "* Train and test the model with TESS + Ravdess + Team Recorded (combined) data\n",
        "\n",
        "* Test each of the models with live audio sample recording."
      ],
      "id": "2vxa85gvorY5"
    },
    {
      "cell_type": "markdown",
      "metadata": {
        "id": "compressed-reflection"
      },
      "source": [
        "### Load the Tess data and Ravdess data audio files (1 point)\n",
        "\n",
        "Hint: `glob.glob`"
      ],
      "id": "compressed-reflection"
    },
    {
      "cell_type": "code",
      "metadata": {
        "id": "518e945a",
        "colab": {
          "base_uri": "https://localhost:8080/"
        },
        "outputId": "e60fbde5-2537-4f22-e4b3-9e0e78a25336"
      },
      "source": [
        "# YOUR CODE HERE\n",
        "\n",
        "TESS_files = glob.glob(\"Tess/*/*.wav\")\n",
        "print(\"TESS:\",len(TESS_files))\n",
        "\n",
        "RAVDESS_files = glob.glob(\"ravdess/*/*.wav\")\n",
        "len(RAVDESS_files)\n",
        "print(\"RAVDESS:\",len(RAVDESS_files))"
      ],
      "id": "518e945a",
      "execution_count": 4,
      "outputs": [
        {
          "output_type": "stream",
          "name": "stdout",
          "text": [
            "TESS: 2679\n",
            "RAVDESS: 1168\n"
          ]
        }
      ]
    },
    {
      "cell_type": "markdown",
      "metadata": {
        "id": "sound-chest"
      },
      "source": [
        "#### Play the sample audio"
      ],
      "id": "sound-chest"
    },
    {
      "cell_type": "code",
      "metadata": {
        "id": "personalized-wildlife",
        "colab": {
          "base_uri": "https://localhost:8080/",
          "height": 93
        },
        "outputId": "ae6210a7-e3ff-4a31-c201-68821156eb31"
      },
      "source": [
        "# YOUR CODE HERE\n",
        "i = 0\n",
        "print(TESS_files[i])\n",
        "ipd.Audio(TESS_files[i])"
      ],
      "id": "personalized-wildlife",
      "execution_count": 5,
      "outputs": [
        {
          "output_type": "stream",
          "name": "stdout",
          "text": [
            "Tess/YAF_neutral/YAF_hit_neutral.wav\n"
          ]
        },
        {
          "output_type": "execute_result",
          "data": {
            "text/plain": [
              "<IPython.lib.display.Audio object>"
            ],
            "text/html": [
              "\n",
              "                <audio  controls=\"controls\" >\n",
              "                    <source src=\"data:audio/x-wav;base64,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\" type=\"audio/x-wav\" />\n",
              "                    Your browser does not support the audio element.\n",
              "                </audio>\n",
              "              "
            ]
          },
          "metadata": {},
          "execution_count": 5
        }
      ]
    },
    {
      "cell_type": "code",
      "source": [
        "# Creating a pandas dataframe with the necessary columns\n",
        "\n",
        "Modality = {1: \"full-AV\", 2: \"video-only\", 3: \"audio-only\"}\n",
        "VocalChannel = {1: \"speech\", 2: \"song\"}\n",
        "Emotion = {1: \"neutral\", 2: \"calm\", 3: \"happy\", 4: \"sad\", 5: \"angry\", 6: \"fearful\", 7: \"disgust\", 8: \"surprised\"}\n",
        "EmotionalIntensity = {1: \"normal\", 2: \"strong\", 3: \"Unknown\"} # NOTE: There is no strong intensity for the 'neutral' emotion.\n",
        "Statement = {1: \"Kids are talking by the door\", 2: \"Dogs are sitting by the door\", 3: \"Say the word\"}\n",
        "Repetition = {1: \"1st repetition\", 2: \"2nd repetition\"}\n",
        "Actor = np.arange(1,27) #Actors 1 - 24 from RavDESS and 25 and 26 from TESS\n",
        "ActorGender = {1: \"Female\", 2: \"Male\"}\n",
        "ActorAge = {1: \"Young\", 2: \"Old\", 3: \"Unknown\"}\n",
        "DataBase = {1: \"RAVDESS\", 2: \"TESS\"}\n",
        "\n",
        "data_columns = [\"Modality\", \"VocalChannel\", \"Emotion\", \"EmotionalIntensity\", \"Statement\", \"Repetition\", \"Actor\", \"ActorGender\", \"ActorAge\", \"DataBase\", \"FilePath\"]\n",
        "\n",
        "dtype_dict = {\n",
        "    \"Modality\": 'category',\n",
        "    'VocalChannel' : 'category',\n",
        "    'Emotion' : 'category',\n",
        "    'EmotionalIntensity' : 'category',\n",
        "    'Statement' : 'str',\n",
        "    'Repetition' : 'category',\n",
        "    'Actor' : 'category',\n",
        "    'ActorGender' : 'category',\n",
        "    'ActorAge' : 'category',\n",
        "    'DataBase' : 'category',\n",
        "    'FilePath' : 'str'}\n",
        "\n",
        "df = pd.DataFrame(columns=data_columns)\n",
        "df = df.astype(dtype=dtype_dict)\n",
        "df.info()"
      ],
      "metadata": {
        "colab": {
          "base_uri": "https://localhost:8080/"
        },
        "id": "PfxFNR01UaBw",
        "outputId": "a71c6469-e7ab-408f-afc5-e29932cb3b25"
      },
      "id": "PfxFNR01UaBw",
      "execution_count": 30,
      "outputs": [
        {
          "output_type": "stream",
          "name": "stdout",
          "text": [
            "<class 'pandas.core.frame.DataFrame'>\n",
            "Index: 0 entries\n",
            "Data columns (total 11 columns):\n",
            " #   Column              Non-Null Count  Dtype   \n",
            "---  ------              --------------  -----   \n",
            " 0   Modality            0 non-null      category\n",
            " 1   VocalChannel        0 non-null      category\n",
            " 2   Emotion             0 non-null      category\n",
            " 3   EmotionalIntensity  0 non-null      category\n",
            " 4   Statement           0 non-null      object  \n",
            " 5   Repetition          0 non-null      category\n",
            " 6   Actor               0 non-null      category\n",
            " 7   ActorGender         0 non-null      category\n",
            " 8   ActorAge            0 non-null      category\n",
            " 9   DataBase            0 non-null      category\n",
            " 10  FilePath            0 non-null      object  \n",
            "dtypes: category(9), object(2)\n",
            "memory usage: 972.0+ bytes\n"
          ]
        }
      ]
    },
    {
      "cell_type": "code",
      "source": [
        "\"\"\"\n",
        "Modality = {1: \"full-AV\", 2: \"video-only\", 3: \"audio-only\"}\n",
        "VocalChannel = {1: \"speech\", 2: \"song\"}\n",
        "Emotion = {1: \"neutral\", 2: \"calm\", 3: \"happy\", 4: \"sad\", 5: \"angry\", 6: \"fearful\", 7: \"disgust\", 8: \"surprised\"}\n",
        "EmotionalIntensity = {1: \"normal\", 2: \"strong\", 3: \"Unknown\"} # NOTE: There is no strong intensity for the 'neutral' emotion.\n",
        "Statement = {1: \"Kids are talking by the door\", 2: \"Dogs are sitting by the door\", 3: \"Say the word\"}\n",
        "Repetition = {1: \"1st repetition\", 2: \"2nd repetition\"}\n",
        "Actor = np.arange(1,27) #Actors 1 - 24 from RavDESS and 25 and 26 from TESS\n",
        "ActorGender = {1: \"Female\", 2: \"Male\"}\n",
        "ActorAge = {1: \"Young\", 2: \"Old\", 3: \"Unknown\"}\n",
        "DataBase = {1: \"RAVDESS\", 2: \"TESS\"}\n",
        "\"\"\"\n",
        "\n",
        "def TESS_name_decoder(TESSname):\n",
        "\n",
        "  import re\n",
        "\n",
        "  actor = re.search('(?<=Tess/)[YO]AF', TESSname).group(0) #\n",
        "  word  = re.search('(?<=_)[a-zA-Z]+(?=_)', TESSname).group(0)\n",
        "  emotion  = re.search('(?<=_)[a-zA-Z]+(?=\\.wav)', TESSname).group(0)\n",
        "\n",
        "  Mod = 3\n",
        "  VC = 1\n",
        "  Em = emotion #Emotion - to be reset after parsing the name\n",
        "  EI = 3\n",
        "  St = Statement[3] + \" \" + word\n",
        "  Rp = 1\n",
        "  Actor = 25 if actor == 'YAF' else 26 # 25 for YAF and 26 for OAF\n",
        "  AG = 1\n",
        "  AA = 1 if actor == 'YAF' else 2 # 1 for young and 2 for old\n",
        "  DB = 2\n",
        "  FilePath = TESSname\n",
        "\n",
        "  return {\"Modality\": Modality[Mod],\n",
        "          \"VocalChannel\": VocalChannel[VC],\n",
        "          \"Emotion\": Em,\n",
        "          \"EmotionalIntensity\": EmotionalIntensity[EI],\n",
        "          \"Statement\": St,\n",
        "          \"Repetition\": Repetition[Rp],\n",
        "          \"Actor\": Actor,\n",
        "          \"ActorGender\": ActorGender[AG],\n",
        "          \"ActorAge\": ActorAge[AA],\n",
        "          \"DataBase\": DataBase[DB],\n",
        "          \"FilePath\": FilePath}\n",
        "\n",
        "TESS_name_decoder(TESS_files[0])"
      ],
      "metadata": {
        "colab": {
          "base_uri": "https://localhost:8080/"
        },
        "id": "-pLZkc98WkUe",
        "outputId": "656a297a-1b07-4506-e93f-213521b91499"
      },
      "id": "-pLZkc98WkUe",
      "execution_count": 18,
      "outputs": [
        {
          "output_type": "execute_result",
          "data": {
            "text/plain": [
              "{'Modality': 'audio-only',\n",
              " 'VocalChannel': 'speech',\n",
              " 'Emotion': 'neutral',\n",
              " 'EmotionalIntensity': 'Unknown',\n",
              " 'Statement': 'Say the word hit',\n",
              " 'Repetition': '1st repetition',\n",
              " 'Actor': 25,\n",
              " 'ActorGender': 'Female',\n",
              " 'ActorAge': 'Young',\n",
              " 'DataBase': 'TESS',\n",
              " 'FilePath': 'Tess/YAF_neutral/YAF_hit_neutral.wav'}"
            ]
          },
          "metadata": {},
          "execution_count": 18
        }
      ]
    },
    {
      "cell_type": "code",
      "source": [
        "\"\"\"\n",
        "Modality = {1: \"full-AV\", 2: \"video-only\", 3: \"audio-only\"}\n",
        "VocalChannel = {1: \"speech\", 2: \"song\"}\n",
        "Emotion = {1: \"neutral\", 2: \"calm\", 3: \"happy\", 4: \"sad\", 5: \"angry\", 6: \"fearful\", 7: \"disgust\", 8: \"surprised\"}\n",
        "EmotionalIntensity = {1: \"normal\", 2: \"strong\", 3: \"Unknown\"} # NOTE: There is no strong intensity for the 'neutral' emotion.\n",
        "Statement = {1: \"Kids are talking by the door\", 2: \"Dogs are sitting by the door\", 3: \"Say the word\"}\n",
        "Repetition = {1: \"1st repetition\", 2: \"2nd repetition\"}\n",
        "Actor = np.arange(1,27) #Actors 1 - 24 from RavDESS and 25 and 26 from TESS\n",
        "ActorGender = {1: \"Female\", 2: \"Male\"}\n",
        "ActorAge = {1: \"Young\", 2: \"Old\", 3: \"Unknown\"}\n",
        "DataBase = {1: \"RAVDESS\", 2: \"TESS\"}\n",
        "\"\"\"\n",
        "\n",
        "\"\"\"\n",
        "  word  = re.search('(?<=_)[a-xA-Z]+(?=_)', TESSname).group(0)\n",
        "\"\"\"\n",
        "\n",
        "def RAVDESS_name_decoder(RAVDESSname):\n",
        "\n",
        "  import re\n",
        "\n",
        "  actor = re.search('(?<=Actor_)\\d+', RAVDESSname).group(0) #\n",
        "  emotion  = re.search('(?<=[0-9]_).*?(?=\\.wav)', RAVDESSname).group(0)\n",
        "  envmt  = re.search('(?<=[0-9]/).*?(?=_)', RAVDESSname).group(0).split('-')\n",
        "\n",
        "\n",
        "  Mod = int(envmt[0])\n",
        "  VC = int(envmt[1])\n",
        "  Em = emotion #Emotion - to be reset after parsing the name\n",
        "  EI = int(envmt[3])\n",
        "  St = Statement[int(envmt[4])]\n",
        "  Rp = int(envmt[5])\n",
        "  Actor = int(envmt[6]) # 25 for YAF and 26 for OAF\n",
        "  AG = 1 if Actor%2==0 else 2\n",
        "  AA = 3\n",
        "  DB = 1\n",
        "  FilePath = RAVDESSname\n",
        "\n",
        "#  return (Mod, VC, Em, EI, St, Rp, Actor, AA, AG, AA, DB, FilePath)\n",
        "\n",
        "  return {\"Modality\": Modality[Mod],\n",
        "          \"VocalChannel\": VocalChannel[VC],\n",
        "          \"Emotion\": Em,\n",
        "          \"EmotionalIntensity\": EmotionalIntensity[EI],\n",
        "          \"Statement\": St,\n",
        "          \"Repetition\": Repetition[Rp],\n",
        "          \"Actor\": Actor,\n",
        "          \"ActorGender\": ActorGender[AG],\n",
        "          \"ActorAge\": ActorAge[AA],\n",
        "          \"DataBase\": DataBase[DB],\n",
        "          \"FilePath\": FilePath}\n",
        "\n",
        "print(RAVDESS_files[0])\n",
        "RAVDESS_name_decoder(RAVDESS_files[0])\n",
        "\n",
        "#ipd.Audio(RAVDESS_files[0])"
      ],
      "metadata": {
        "colab": {
          "base_uri": "https://localhost:8080/"
        },
        "id": "1IN2l9y7sDdy",
        "outputId": "95f5a591-0d86-4258-8715-9328c5279fd7"
      },
      "id": "1IN2l9y7sDdy",
      "execution_count": 29,
      "outputs": [
        {
          "output_type": "stream",
          "name": "stdout",
          "text": [
            "ravdess/Actor_06/03-01-05-02-01-01-06_angry.wav\n"
          ]
        },
        {
          "output_type": "execute_result",
          "data": {
            "text/plain": [
              "{'Modality': 'audio-only',\n",
              " 'VocalChannel': 'speech',\n",
              " 'Emotion': 'angry',\n",
              " 'EmotionalIntensity': 'strong',\n",
              " 'Statement': 'Kids are talking by the door',\n",
              " 'Repetition': '1st repetition',\n",
              " 'Actor': 6,\n",
              " 'ActorGender': 'Female',\n",
              " 'ActorAge': 'Unknown',\n",
              " 'DataBase': 'RAVDESS',\n",
              " 'FilePath': 'ravdess/Actor_06/03-01-05-02-01-01-06_angry.wav'}"
            ]
          },
          "metadata": {},
          "execution_count": 29
        }
      ]
    },
    {
      "cell_type": "code",
      "source": [
        "print(len(TESS_files))"
      ],
      "metadata": {
        "colab": {
          "base_uri": "https://localhost:8080/"
        },
        "id": "cRnJJgSjeB_O",
        "outputId": "6af4a392-cfa1-475f-8516-f163c98a3e36"
      },
      "id": "cRnJJgSjeB_O",
      "execution_count": 10,
      "outputs": [
        {
          "output_type": "stream",
          "name": "stdout",
          "text": [
            "2679\n"
          ]
        }
      ]
    },
    {
      "cell_type": "code",
      "source": [
        "for t in TESS_files:\n",
        "  df = df.append(TESS_name_decoder(t), ignore_index=True)\n"
      ],
      "metadata": {
        "id": "K8UTSW8MxYsD"
      },
      "id": "K8UTSW8MxYsD",
      "execution_count": 31,
      "outputs": []
    },
    {
      "cell_type": "code",
      "source": [
        "df.head()"
      ],
      "metadata": {
        "id": "cRTCh0zZrc5q",
        "outputId": "579e6a93-6262-4af8-9f98-b6c30b85ed2f",
        "colab": {
          "base_uri": "https://localhost:8080/",
          "height": 313
        }
      },
      "id": "cRTCh0zZrc5q",
      "execution_count": 27,
      "outputs": [
        {
          "output_type": "execute_result",
          "data": {
            "text/plain": [
              "     Modality VocalChannel  Emotion EmotionalIntensity           Statement  \\\n",
              "0  audio-only       speech  neutral            Unknown    Say the word hit   \n",
              "1  audio-only       speech  neutral            Unknown   Say the word cool   \n",
              "2  audio-only       speech  neutral            Unknown   Say the word long   \n",
              "3  audio-only       speech  neutral            Unknown  Say the word perch   \n",
              "4  audio-only       speech  neutral            Unknown   Say the word moon   \n",
              "\n",
              "       Repetition Actor ActorGender ActorAge DataBase  \\\n",
              "0  1st repetition    25      Female    Young     TESS   \n",
              "1  1st repetition    25      Female    Young     TESS   \n",
              "2  1st repetition    25      Female    Young     TESS   \n",
              "3  1st repetition    25      Female    Young     TESS   \n",
              "4  1st repetition    25      Female    Young     TESS   \n",
              "\n",
              "                                 FilePath  \n",
              "0    Tess/YAF_neutral/YAF_hit_neutral.wav  \n",
              "1   Tess/YAF_neutral/YAF_cool_neutral.wav  \n",
              "2   Tess/YAF_neutral/YAF_long_neutral.wav  \n",
              "3  Tess/YAF_neutral/YAF_perch_neutral.wav  \n",
              "4   Tess/YAF_neutral/YAF_moon_neutral.wav  "
            ],
            "text/html": [
              "\n",
              "  <div id=\"df-97a3186b-bcf6-4242-b83f-a12a1815d21e\" class=\"colab-df-container\">\n",
              "    <div>\n",
              "<style scoped>\n",
              "    .dataframe tbody tr th:only-of-type {\n",
              "        vertical-align: middle;\n",
              "    }\n",
              "\n",
              "    .dataframe tbody tr th {\n",
              "        vertical-align: top;\n",
              "    }\n",
              "\n",
              "    .dataframe thead th {\n",
              "        text-align: right;\n",
              "    }\n",
              "</style>\n",
              "<table border=\"1\" class=\"dataframe\">\n",
              "  <thead>\n",
              "    <tr style=\"text-align: right;\">\n",
              "      <th></th>\n",
              "      <th>Modality</th>\n",
              "      <th>VocalChannel</th>\n",
              "      <th>Emotion</th>\n",
              "      <th>EmotionalIntensity</th>\n",
              "      <th>Statement</th>\n",
              "      <th>Repetition</th>\n",
              "      <th>Actor</th>\n",
              "      <th>ActorGender</th>\n",
              "      <th>ActorAge</th>\n",
              "      <th>DataBase</th>\n",
              "      <th>FilePath</th>\n",
              "    </tr>\n",
              "  </thead>\n",
              "  <tbody>\n",
              "    <tr>\n",
              "      <th>0</th>\n",
              "      <td>audio-only</td>\n",
              "      <td>speech</td>\n",
              "      <td>neutral</td>\n",
              "      <td>Unknown</td>\n",
              "      <td>Say the word hit</td>\n",
              "      <td>1st repetition</td>\n",
              "      <td>25</td>\n",
              "      <td>Female</td>\n",
              "      <td>Young</td>\n",
              "      <td>TESS</td>\n",
              "      <td>Tess/YAF_neutral/YAF_hit_neutral.wav</td>\n",
              "    </tr>\n",
              "    <tr>\n",
              "      <th>1</th>\n",
              "      <td>audio-only</td>\n",
              "      <td>speech</td>\n",
              "      <td>neutral</td>\n",
              "      <td>Unknown</td>\n",
              "      <td>Say the word cool</td>\n",
              "      <td>1st repetition</td>\n",
              "      <td>25</td>\n",
              "      <td>Female</td>\n",
              "      <td>Young</td>\n",
              "      <td>TESS</td>\n",
              "      <td>Tess/YAF_neutral/YAF_cool_neutral.wav</td>\n",
              "    </tr>\n",
              "    <tr>\n",
              "      <th>2</th>\n",
              "      <td>audio-only</td>\n",
              "      <td>speech</td>\n",
              "      <td>neutral</td>\n",
              "      <td>Unknown</td>\n",
              "      <td>Say the word long</td>\n",
              "      <td>1st repetition</td>\n",
              "      <td>25</td>\n",
              "      <td>Female</td>\n",
              "      <td>Young</td>\n",
              "      <td>TESS</td>\n",
              "      <td>Tess/YAF_neutral/YAF_long_neutral.wav</td>\n",
              "    </tr>\n",
              "    <tr>\n",
              "      <th>3</th>\n",
              "      <td>audio-only</td>\n",
              "      <td>speech</td>\n",
              "      <td>neutral</td>\n",
              "      <td>Unknown</td>\n",
              "      <td>Say the word perch</td>\n",
              "      <td>1st repetition</td>\n",
              "      <td>25</td>\n",
              "      <td>Female</td>\n",
              "      <td>Young</td>\n",
              "      <td>TESS</td>\n",
              "      <td>Tess/YAF_neutral/YAF_perch_neutral.wav</td>\n",
              "    </tr>\n",
              "    <tr>\n",
              "      <th>4</th>\n",
              "      <td>audio-only</td>\n",
              "      <td>speech</td>\n",
              "      <td>neutral</td>\n",
              "      <td>Unknown</td>\n",
              "      <td>Say the word moon</td>\n",
              "      <td>1st repetition</td>\n",
              "      <td>25</td>\n",
              "      <td>Female</td>\n",
              "      <td>Young</td>\n",
              "      <td>TESS</td>\n",
              "      <td>Tess/YAF_neutral/YAF_moon_neutral.wav</td>\n",
              "    </tr>\n",
              "  </tbody>\n",
              "</table>\n",
              "</div>\n",
              "    <div class=\"colab-df-buttons\">\n",
              "\n",
              "  <div class=\"colab-df-container\">\n",
              "    <button class=\"colab-df-convert\" onclick=\"convertToInteractive('df-97a3186b-bcf6-4242-b83f-a12a1815d21e')\"\n",
              "            title=\"Convert this dataframe to an interactive table.\"\n",
              "            style=\"display:none;\">\n",
              "\n",
              "  <svg xmlns=\"http://www.w3.org/2000/svg\" height=\"24px\" viewBox=\"0 -960 960 960\">\n",
              "    <path d=\"M120-120v-720h720v720H120Zm60-500h600v-160H180v160Zm220 220h160v-160H400v160Zm0 220h160v-160H400v160ZM180-400h160v-160H180v160Zm440 0h160v-160H620v160ZM180-180h160v-160H180v160Zm440 0h160v-160H620v160Z\"/>\n",
              "  </svg>\n",
              "    </button>\n",
              "\n",
              "  <style>\n",
              "    .colab-df-container {\n",
              "      display:flex;\n",
              "      gap: 12px;\n",
              "    }\n",
              "\n",
              "    .colab-df-convert {\n",
              "      background-color: #E8F0FE;\n",
              "      border: none;\n",
              "      border-radius: 50%;\n",
              "      cursor: pointer;\n",
              "      display: none;\n",
              "      fill: #1967D2;\n",
              "      height: 32px;\n",
              "      padding: 0 0 0 0;\n",
              "      width: 32px;\n",
              "    }\n",
              "\n",
              "    .colab-df-convert:hover {\n",
              "      background-color: #E2EBFA;\n",
              "      box-shadow: 0px 1px 2px rgba(60, 64, 67, 0.3), 0px 1px 3px 1px rgba(60, 64, 67, 0.15);\n",
              "      fill: #174EA6;\n",
              "    }\n",
              "\n",
              "    .colab-df-buttons div {\n",
              "      margin-bottom: 4px;\n",
              "    }\n",
              "\n",
              "    [theme=dark] .colab-df-convert {\n",
              "      background-color: #3B4455;\n",
              "      fill: #D2E3FC;\n",
              "    }\n",
              "\n",
              "    [theme=dark] .colab-df-convert:hover {\n",
              "      background-color: #434B5C;\n",
              "      box-shadow: 0px 1px 3px 1px rgba(0, 0, 0, 0.15);\n",
              "      filter: drop-shadow(0px 1px 2px rgba(0, 0, 0, 0.3));\n",
              "      fill: #FFFFFF;\n",
              "    }\n",
              "  </style>\n",
              "\n",
              "    <script>\n",
              "      const buttonEl =\n",
              "        document.querySelector('#df-97a3186b-bcf6-4242-b83f-a12a1815d21e button.colab-df-convert');\n",
              "      buttonEl.style.display =\n",
              "        google.colab.kernel.accessAllowed ? 'block' : 'none';\n",
              "\n",
              "      async function convertToInteractive(key) {\n",
              "        const element = document.querySelector('#df-97a3186b-bcf6-4242-b83f-a12a1815d21e');\n",
              "        const dataTable =\n",
              "          await google.colab.kernel.invokeFunction('convertToInteractive',\n",
              "                                                    [key], {});\n",
              "        if (!dataTable) return;\n",
              "\n",
              "        const docLinkHtml = 'Like what you see? Visit the ' +\n",
              "          '<a target=\"_blank\" href=https://colab.research.google.com/notebooks/data_table.ipynb>data table notebook</a>'\n",
              "          + ' to learn more about interactive tables.';\n",
              "        element.innerHTML = '';\n",
              "        dataTable['output_type'] = 'display_data';\n",
              "        await google.colab.output.renderOutput(dataTable, element);\n",
              "        const docLink = document.createElement('div');\n",
              "        docLink.innerHTML = docLinkHtml;\n",
              "        element.appendChild(docLink);\n",
              "      }\n",
              "    </script>\n",
              "  </div>\n",
              "\n",
              "\n",
              "<div id=\"df-7abb5d40-7a2b-4504-9005-7a4f68c62dc5\">\n",
              "  <button class=\"colab-df-quickchart\" onclick=\"quickchart('df-7abb5d40-7a2b-4504-9005-7a4f68c62dc5')\"\n",
              "            title=\"Suggest charts\"\n",
              "            style=\"display:none;\">\n",
              "\n",
              "<svg xmlns=\"http://www.w3.org/2000/svg\" height=\"24px\"viewBox=\"0 0 24 24\"\n",
              "     width=\"24px\">\n",
              "    <g>\n",
              "        <path d=\"M19 3H5c-1.1 0-2 .9-2 2v14c0 1.1.9 2 2 2h14c1.1 0 2-.9 2-2V5c0-1.1-.9-2-2-2zM9 17H7v-7h2v7zm4 0h-2V7h2v10zm4 0h-2v-4h2v4z\"/>\n",
              "    </g>\n",
              "</svg>\n",
              "  </button>\n",
              "\n",
              "<style>\n",
              "  .colab-df-quickchart {\n",
              "      --bg-color: #E8F0FE;\n",
              "      --fill-color: #1967D2;\n",
              "      --hover-bg-color: #E2EBFA;\n",
              "      --hover-fill-color: #174EA6;\n",
              "      --disabled-fill-color: #AAA;\n",
              "      --disabled-bg-color: #DDD;\n",
              "  }\n",
              "\n",
              "  [theme=dark] .colab-df-quickchart {\n",
              "      --bg-color: #3B4455;\n",
              "      --fill-color: #D2E3FC;\n",
              "      --hover-bg-color: #434B5C;\n",
              "      --hover-fill-color: #FFFFFF;\n",
              "      --disabled-bg-color: #3B4455;\n",
              "      --disabled-fill-color: #666;\n",
              "  }\n",
              "\n",
              "  .colab-df-quickchart {\n",
              "    background-color: var(--bg-color);\n",
              "    border: none;\n",
              "    border-radius: 50%;\n",
              "    cursor: pointer;\n",
              "    display: none;\n",
              "    fill: var(--fill-color);\n",
              "    height: 32px;\n",
              "    padding: 0;\n",
              "    width: 32px;\n",
              "  }\n",
              "\n",
              "  .colab-df-quickchart:hover {\n",
              "    background-color: var(--hover-bg-color);\n",
              "    box-shadow: 0 1px 2px rgba(60, 64, 67, 0.3), 0 1px 3px 1px rgba(60, 64, 67, 0.15);\n",
              "    fill: var(--button-hover-fill-color);\n",
              "  }\n",
              "\n",
              "  .colab-df-quickchart-complete:disabled,\n",
              "  .colab-df-quickchart-complete:disabled:hover {\n",
              "    background-color: var(--disabled-bg-color);\n",
              "    fill: var(--disabled-fill-color);\n",
              "    box-shadow: none;\n",
              "  }\n",
              "\n",
              "  .colab-df-spinner {\n",
              "    border: 2px solid var(--fill-color);\n",
              "    border-color: transparent;\n",
              "    border-bottom-color: var(--fill-color);\n",
              "    animation:\n",
              "      spin 1s steps(1) infinite;\n",
              "  }\n",
              "\n",
              "  @keyframes spin {\n",
              "    0% {\n",
              "      border-color: transparent;\n",
              "      border-bottom-color: var(--fill-color);\n",
              "      border-left-color: var(--fill-color);\n",
              "    }\n",
              "    20% {\n",
              "      border-color: transparent;\n",
              "      border-left-color: var(--fill-color);\n",
              "      border-top-color: var(--fill-color);\n",
              "    }\n",
              "    30% {\n",
              "      border-color: transparent;\n",
              "      border-left-color: var(--fill-color);\n",
              "      border-top-color: var(--fill-color);\n",
              "      border-right-color: var(--fill-color);\n",
              "    }\n",
              "    40% {\n",
              "      border-color: transparent;\n",
              "      border-right-color: var(--fill-color);\n",
              "      border-top-color: var(--fill-color);\n",
              "    }\n",
              "    60% {\n",
              "      border-color: transparent;\n",
              "      border-right-color: var(--fill-color);\n",
              "    }\n",
              "    80% {\n",
              "      border-color: transparent;\n",
              "      border-right-color: var(--fill-color);\n",
              "      border-bottom-color: var(--fill-color);\n",
              "    }\n",
              "    90% {\n",
              "      border-color: transparent;\n",
              "      border-bottom-color: var(--fill-color);\n",
              "    }\n",
              "  }\n",
              "</style>\n",
              "\n",
              "  <script>\n",
              "    async function quickchart(key) {\n",
              "      const quickchartButtonEl =\n",
              "        document.querySelector('#' + key + ' button');\n",
              "      quickchartButtonEl.disabled = true;  // To prevent multiple clicks.\n",
              "      quickchartButtonEl.classList.add('colab-df-spinner');\n",
              "      try {\n",
              "        const charts = await google.colab.kernel.invokeFunction(\n",
              "            'suggestCharts', [key], {});\n",
              "      } catch (error) {\n",
              "        console.error('Error during call to suggestCharts:', error);\n",
              "      }\n",
              "      quickchartButtonEl.classList.remove('colab-df-spinner');\n",
              "      quickchartButtonEl.classList.add('colab-df-quickchart-complete');\n",
              "    }\n",
              "    (() => {\n",
              "      let quickchartButtonEl =\n",
              "        document.querySelector('#df-7abb5d40-7a2b-4504-9005-7a4f68c62dc5 button');\n",
              "      quickchartButtonEl.style.display =\n",
              "        google.colab.kernel.accessAllowed ? 'block' : 'none';\n",
              "    })();\n",
              "  </script>\n",
              "</div>\n",
              "    </div>\n",
              "  </div>\n"
            ],
            "application/vnd.google.colaboratory.intrinsic+json": {
              "type": "dataframe",
              "variable_name": "df",
              "repr_error": "'str' object has no attribute 'empty'"
            }
          },
          "metadata": {},
          "execution_count": 27
        }
      ]
    },
    {
      "cell_type": "code",
      "source": [
        "for r in RAVDESS_files:\n",
        "  df = df.append(RAVDESS_name_decoder(r), ignore_index=True)"
      ],
      "metadata": {
        "id": "9nG2dLmiriN_"
      },
      "id": "9nG2dLmiriN_",
      "execution_count": 32,
      "outputs": []
    },
    {
      "cell_type": "code",
      "source": [
        "df.tail()"
      ],
      "metadata": {
        "id": "dcQyR-1prwWg",
        "outputId": "16488d36-f9eb-4e11-bebb-dc8fadf723ef",
        "colab": {
          "base_uri": "https://localhost:8080/",
          "height": 380
        }
      },
      "id": "dcQyR-1prwWg",
      "execution_count": 33,
      "outputs": [
        {
          "output_type": "execute_result",
          "data": {
            "text/plain": [
              "        Modality VocalChannel    Emotion EmotionalIntensity  \\\n",
              "3842  audio-only       speech      angry             strong   \n",
              "3843  audio-only       speech        sad             strong   \n",
              "3844  audio-only       speech  surprised             strong   \n",
              "3845  audio-only       speech        sad             normal   \n",
              "3846  audio-only       speech    disgust             strong   \n",
              "\n",
              "                         Statement      Repetition Actor ActorGender ActorAge  \\\n",
              "3842  Dogs are sitting by the door  1st repetition     9        Male  Unknown   \n",
              "3843  Dogs are sitting by the door  2nd repetition     9        Male  Unknown   \n",
              "3844  Dogs are sitting by the door  2nd repetition     9        Male  Unknown   \n",
              "3845  Dogs are sitting by the door  1st repetition     9        Male  Unknown   \n",
              "3846  Kids are talking by the door  2nd repetition     9        Male  Unknown   \n",
              "\n",
              "     DataBase                                           FilePath  \n",
              "3842  RAVDESS    ravdess/Actor_09/03-01-05-02-02-01-09_angry.wav  \n",
              "3843  RAVDESS      ravdess/Actor_09/03-01-04-02-02-02-09_sad.wav  \n",
              "3844  RAVDESS  ravdess/Actor_09/03-01-08-02-02-02-09_surprise...  \n",
              "3845  RAVDESS      ravdess/Actor_09/03-01-04-01-02-01-09_sad.wav  \n",
              "3846  RAVDESS  ravdess/Actor_09/03-01-07-02-01-02-09_disgust.wav  "
            ],
            "text/html": [
              "\n",
              "  <div id=\"df-17c29598-74f0-47fb-a0c8-5e0b076dec4b\" class=\"colab-df-container\">\n",
              "    <div>\n",
              "<style scoped>\n",
              "    .dataframe tbody tr th:only-of-type {\n",
              "        vertical-align: middle;\n",
              "    }\n",
              "\n",
              "    .dataframe tbody tr th {\n",
              "        vertical-align: top;\n",
              "    }\n",
              "\n",
              "    .dataframe thead th {\n",
              "        text-align: right;\n",
              "    }\n",
              "</style>\n",
              "<table border=\"1\" class=\"dataframe\">\n",
              "  <thead>\n",
              "    <tr style=\"text-align: right;\">\n",
              "      <th></th>\n",
              "      <th>Modality</th>\n",
              "      <th>VocalChannel</th>\n",
              "      <th>Emotion</th>\n",
              "      <th>EmotionalIntensity</th>\n",
              "      <th>Statement</th>\n",
              "      <th>Repetition</th>\n",
              "      <th>Actor</th>\n",
              "      <th>ActorGender</th>\n",
              "      <th>ActorAge</th>\n",
              "      <th>DataBase</th>\n",
              "      <th>FilePath</th>\n",
              "    </tr>\n",
              "  </thead>\n",
              "  <tbody>\n",
              "    <tr>\n",
              "      <th>3842</th>\n",
              "      <td>audio-only</td>\n",
              "      <td>speech</td>\n",
              "      <td>angry</td>\n",
              "      <td>strong</td>\n",
              "      <td>Dogs are sitting by the door</td>\n",
              "      <td>1st repetition</td>\n",
              "      <td>9</td>\n",
              "      <td>Male</td>\n",
              "      <td>Unknown</td>\n",
              "      <td>RAVDESS</td>\n",
              "      <td>ravdess/Actor_09/03-01-05-02-02-01-09_angry.wav</td>\n",
              "    </tr>\n",
              "    <tr>\n",
              "      <th>3843</th>\n",
              "      <td>audio-only</td>\n",
              "      <td>speech</td>\n",
              "      <td>sad</td>\n",
              "      <td>strong</td>\n",
              "      <td>Dogs are sitting by the door</td>\n",
              "      <td>2nd repetition</td>\n",
              "      <td>9</td>\n",
              "      <td>Male</td>\n",
              "      <td>Unknown</td>\n",
              "      <td>RAVDESS</td>\n",
              "      <td>ravdess/Actor_09/03-01-04-02-02-02-09_sad.wav</td>\n",
              "    </tr>\n",
              "    <tr>\n",
              "      <th>3844</th>\n",
              "      <td>audio-only</td>\n",
              "      <td>speech</td>\n",
              "      <td>surprised</td>\n",
              "      <td>strong</td>\n",
              "      <td>Dogs are sitting by the door</td>\n",
              "      <td>2nd repetition</td>\n",
              "      <td>9</td>\n",
              "      <td>Male</td>\n",
              "      <td>Unknown</td>\n",
              "      <td>RAVDESS</td>\n",
              "      <td>ravdess/Actor_09/03-01-08-02-02-02-09_surprise...</td>\n",
              "    </tr>\n",
              "    <tr>\n",
              "      <th>3845</th>\n",
              "      <td>audio-only</td>\n",
              "      <td>speech</td>\n",
              "      <td>sad</td>\n",
              "      <td>normal</td>\n",
              "      <td>Dogs are sitting by the door</td>\n",
              "      <td>1st repetition</td>\n",
              "      <td>9</td>\n",
              "      <td>Male</td>\n",
              "      <td>Unknown</td>\n",
              "      <td>RAVDESS</td>\n",
              "      <td>ravdess/Actor_09/03-01-04-01-02-01-09_sad.wav</td>\n",
              "    </tr>\n",
              "    <tr>\n",
              "      <th>3846</th>\n",
              "      <td>audio-only</td>\n",
              "      <td>speech</td>\n",
              "      <td>disgust</td>\n",
              "      <td>strong</td>\n",
              "      <td>Kids are talking by the door</td>\n",
              "      <td>2nd repetition</td>\n",
              "      <td>9</td>\n",
              "      <td>Male</td>\n",
              "      <td>Unknown</td>\n",
              "      <td>RAVDESS</td>\n",
              "      <td>ravdess/Actor_09/03-01-07-02-01-02-09_disgust.wav</td>\n",
              "    </tr>\n",
              "  </tbody>\n",
              "</table>\n",
              "</div>\n",
              "    <div class=\"colab-df-buttons\">\n",
              "\n",
              "  <div class=\"colab-df-container\">\n",
              "    <button class=\"colab-df-convert\" onclick=\"convertToInteractive('df-17c29598-74f0-47fb-a0c8-5e0b076dec4b')\"\n",
              "            title=\"Convert this dataframe to an interactive table.\"\n",
              "            style=\"display:none;\">\n",
              "\n",
              "  <svg xmlns=\"http://www.w3.org/2000/svg\" height=\"24px\" viewBox=\"0 -960 960 960\">\n",
              "    <path d=\"M120-120v-720h720v720H120Zm60-500h600v-160H180v160Zm220 220h160v-160H400v160Zm0 220h160v-160H400v160ZM180-400h160v-160H180v160Zm440 0h160v-160H620v160ZM180-180h160v-160H180v160Zm440 0h160v-160H620v160Z\"/>\n",
              "  </svg>\n",
              "    </button>\n",
              "\n",
              "  <style>\n",
              "    .colab-df-container {\n",
              "      display:flex;\n",
              "      gap: 12px;\n",
              "    }\n",
              "\n",
              "    .colab-df-convert {\n",
              "      background-color: #E8F0FE;\n",
              "      border: none;\n",
              "      border-radius: 50%;\n",
              "      cursor: pointer;\n",
              "      display: none;\n",
              "      fill: #1967D2;\n",
              "      height: 32px;\n",
              "      padding: 0 0 0 0;\n",
              "      width: 32px;\n",
              "    }\n",
              "\n",
              "    .colab-df-convert:hover {\n",
              "      background-color: #E2EBFA;\n",
              "      box-shadow: 0px 1px 2px rgba(60, 64, 67, 0.3), 0px 1px 3px 1px rgba(60, 64, 67, 0.15);\n",
              "      fill: #174EA6;\n",
              "    }\n",
              "\n",
              "    .colab-df-buttons div {\n",
              "      margin-bottom: 4px;\n",
              "    }\n",
              "\n",
              "    [theme=dark] .colab-df-convert {\n",
              "      background-color: #3B4455;\n",
              "      fill: #D2E3FC;\n",
              "    }\n",
              "\n",
              "    [theme=dark] .colab-df-convert:hover {\n",
              "      background-color: #434B5C;\n",
              "      box-shadow: 0px 1px 3px 1px rgba(0, 0, 0, 0.15);\n",
              "      filter: drop-shadow(0px 1px 2px rgba(0, 0, 0, 0.3));\n",
              "      fill: #FFFFFF;\n",
              "    }\n",
              "  </style>\n",
              "\n",
              "    <script>\n",
              "      const buttonEl =\n",
              "        document.querySelector('#df-17c29598-74f0-47fb-a0c8-5e0b076dec4b button.colab-df-convert');\n",
              "      buttonEl.style.display =\n",
              "        google.colab.kernel.accessAllowed ? 'block' : 'none';\n",
              "\n",
              "      async function convertToInteractive(key) {\n",
              "        const element = document.querySelector('#df-17c29598-74f0-47fb-a0c8-5e0b076dec4b');\n",
              "        const dataTable =\n",
              "          await google.colab.kernel.invokeFunction('convertToInteractive',\n",
              "                                                    [key], {});\n",
              "        if (!dataTable) return;\n",
              "\n",
              "        const docLinkHtml = 'Like what you see? Visit the ' +\n",
              "          '<a target=\"_blank\" href=https://colab.research.google.com/notebooks/data_table.ipynb>data table notebook</a>'\n",
              "          + ' to learn more about interactive tables.';\n",
              "        element.innerHTML = '';\n",
              "        dataTable['output_type'] = 'display_data';\n",
              "        await google.colab.output.renderOutput(dataTable, element);\n",
              "        const docLink = document.createElement('div');\n",
              "        docLink.innerHTML = docLinkHtml;\n",
              "        element.appendChild(docLink);\n",
              "      }\n",
              "    </script>\n",
              "  </div>\n",
              "\n",
              "\n",
              "<div id=\"df-1620600f-4923-44fe-be60-9f519e1ad32e\">\n",
              "  <button class=\"colab-df-quickchart\" onclick=\"quickchart('df-1620600f-4923-44fe-be60-9f519e1ad32e')\"\n",
              "            title=\"Suggest charts\"\n",
              "            style=\"display:none;\">\n",
              "\n",
              "<svg xmlns=\"http://www.w3.org/2000/svg\" height=\"24px\"viewBox=\"0 0 24 24\"\n",
              "     width=\"24px\">\n",
              "    <g>\n",
              "        <path d=\"M19 3H5c-1.1 0-2 .9-2 2v14c0 1.1.9 2 2 2h14c1.1 0 2-.9 2-2V5c0-1.1-.9-2-2-2zM9 17H7v-7h2v7zm4 0h-2V7h2v10zm4 0h-2v-4h2v4z\"/>\n",
              "    </g>\n",
              "</svg>\n",
              "  </button>\n",
              "\n",
              "<style>\n",
              "  .colab-df-quickchart {\n",
              "      --bg-color: #E8F0FE;\n",
              "      --fill-color: #1967D2;\n",
              "      --hover-bg-color: #E2EBFA;\n",
              "      --hover-fill-color: #174EA6;\n",
              "      --disabled-fill-color: #AAA;\n",
              "      --disabled-bg-color: #DDD;\n",
              "  }\n",
              "\n",
              "  [theme=dark] .colab-df-quickchart {\n",
              "      --bg-color: #3B4455;\n",
              "      --fill-color: #D2E3FC;\n",
              "      --hover-bg-color: #434B5C;\n",
              "      --hover-fill-color: #FFFFFF;\n",
              "      --disabled-bg-color: #3B4455;\n",
              "      --disabled-fill-color: #666;\n",
              "  }\n",
              "\n",
              "  .colab-df-quickchart {\n",
              "    background-color: var(--bg-color);\n",
              "    border: none;\n",
              "    border-radius: 50%;\n",
              "    cursor: pointer;\n",
              "    display: none;\n",
              "    fill: var(--fill-color);\n",
              "    height: 32px;\n",
              "    padding: 0;\n",
              "    width: 32px;\n",
              "  }\n",
              "\n",
              "  .colab-df-quickchart:hover {\n",
              "    background-color: var(--hover-bg-color);\n",
              "    box-shadow: 0 1px 2px rgba(60, 64, 67, 0.3), 0 1px 3px 1px rgba(60, 64, 67, 0.15);\n",
              "    fill: var(--button-hover-fill-color);\n",
              "  }\n",
              "\n",
              "  .colab-df-quickchart-complete:disabled,\n",
              "  .colab-df-quickchart-complete:disabled:hover {\n",
              "    background-color: var(--disabled-bg-color);\n",
              "    fill: var(--disabled-fill-color);\n",
              "    box-shadow: none;\n",
              "  }\n",
              "\n",
              "  .colab-df-spinner {\n",
              "    border: 2px solid var(--fill-color);\n",
              "    border-color: transparent;\n",
              "    border-bottom-color: var(--fill-color);\n",
              "    animation:\n",
              "      spin 1s steps(1) infinite;\n",
              "  }\n",
              "\n",
              "  @keyframes spin {\n",
              "    0% {\n",
              "      border-color: transparent;\n",
              "      border-bottom-color: var(--fill-color);\n",
              "      border-left-color: var(--fill-color);\n",
              "    }\n",
              "    20% {\n",
              "      border-color: transparent;\n",
              "      border-left-color: var(--fill-color);\n",
              "      border-top-color: var(--fill-color);\n",
              "    }\n",
              "    30% {\n",
              "      border-color: transparent;\n",
              "      border-left-color: var(--fill-color);\n",
              "      border-top-color: var(--fill-color);\n",
              "      border-right-color: var(--fill-color);\n",
              "    }\n",
              "    40% {\n",
              "      border-color: transparent;\n",
              "      border-right-color: var(--fill-color);\n",
              "      border-top-color: var(--fill-color);\n",
              "    }\n",
              "    60% {\n",
              "      border-color: transparent;\n",
              "      border-right-color: var(--fill-color);\n",
              "    }\n",
              "    80% {\n",
              "      border-color: transparent;\n",
              "      border-right-color: var(--fill-color);\n",
              "      border-bottom-color: var(--fill-color);\n",
              "    }\n",
              "    90% {\n",
              "      border-color: transparent;\n",
              "      border-bottom-color: var(--fill-color);\n",
              "    }\n",
              "  }\n",
              "</style>\n",
              "\n",
              "  <script>\n",
              "    async function quickchart(key) {\n",
              "      const quickchartButtonEl =\n",
              "        document.querySelector('#' + key + ' button');\n",
              "      quickchartButtonEl.disabled = true;  // To prevent multiple clicks.\n",
              "      quickchartButtonEl.classList.add('colab-df-spinner');\n",
              "      try {\n",
              "        const charts = await google.colab.kernel.invokeFunction(\n",
              "            'suggestCharts', [key], {});\n",
              "      } catch (error) {\n",
              "        console.error('Error during call to suggestCharts:', error);\n",
              "      }\n",
              "      quickchartButtonEl.classList.remove('colab-df-spinner');\n",
              "      quickchartButtonEl.classList.add('colab-df-quickchart-complete');\n",
              "    }\n",
              "    (() => {\n",
              "      let quickchartButtonEl =\n",
              "        document.querySelector('#df-1620600f-4923-44fe-be60-9f519e1ad32e button');\n",
              "      quickchartButtonEl.style.display =\n",
              "        google.colab.kernel.accessAllowed ? 'block' : 'none';\n",
              "    })();\n",
              "  </script>\n",
              "</div>\n",
              "    </div>\n",
              "  </div>\n"
            ],
            "application/vnd.google.colaboratory.intrinsic+json": {
              "type": "dataframe",
              "repr_error": "'str' object has no attribute 'empty'"
            }
          },
          "metadata": {},
          "execution_count": 33
        }
      ]
    },
    {
      "cell_type": "code",
      "source": [
        "print(df.shape)\n",
        "print(len(RAVDESS_files), len(TESS_files), len(RAVDESS_files)+len(TESS_files))"
      ],
      "metadata": {
        "id": "8tyaHHhEtNrh",
        "outputId": "37889fd8-6db1-4be1-c8fb-8baacd071832",
        "colab": {
          "base_uri": "https://localhost:8080/"
        }
      },
      "id": "8tyaHHhEtNrh",
      "execution_count": 34,
      "outputs": [
        {
          "output_type": "stream",
          "name": "stdout",
          "text": [
            "(3847, 11)\n",
            "1168 2679 3847\n"
          ]
        }
      ]
    },
    {
      "cell_type": "markdown",
      "metadata": {
        "id": "exposed-county"
      },
      "source": [
        "### Data Exploration and Visualization (1 point)"
      ],
      "id": "exposed-county"
    },
    {
      "cell_type": "markdown",
      "metadata": {
        "id": "hungry-cleaner"
      },
      "source": [
        "#### Visualize the distribution of all the labels"
      ],
      "id": "hungry-cleaner"
    },
    {
      "cell_type": "code",
      "metadata": {
        "id": "orange-taiwan"
      },
      "source": [
        "# YOUR CODE HERE"
      ],
      "id": "orange-taiwan",
      "execution_count": null,
      "outputs": []
    },
    {
      "cell_type": "markdown",
      "metadata": {
        "id": "established-airfare"
      },
      "source": [
        "#### Visualize sample audio signal using librosa"
      ],
      "id": "established-airfare"
    },
    {
      "cell_type": "code",
      "metadata": {
        "id": "outstanding-caribbean"
      },
      "source": [
        "# YOUR CODE HERE"
      ],
      "id": "outstanding-caribbean",
      "execution_count": null,
      "outputs": []
    },
    {
      "cell_type": "markdown",
      "metadata": {
        "id": "medical-confidence"
      },
      "source": [
        "### Feature extraction (2 points)\n",
        "\n",
        "Read one WAV file at a time using `Librosa`. An audio time series in the form of a 1-dimensional array for mono or 2-dimensional array for stereo, along with time sampling rate (which defines the length of the array), where the elements within each of the arrays represent the amplitude of the sound waves is returned by `librosa.load()` function. Refer to the supplementary notebook ('Audio feature extraction')\n",
        "\n",
        "To know more about Librosa, explore the [link](https://librosa.org/doc/latest/feature.html)"
      ],
      "id": "medical-confidence"
    },
    {
      "cell_type": "code",
      "metadata": {
        "id": "piano-accent"
      },
      "source": [
        "# YOUR CODE HERE"
      ],
      "id": "piano-accent",
      "execution_count": null,
      "outputs": []
    },
    {
      "cell_type": "markdown",
      "metadata": {
        "id": "7d3bd640"
      },
      "source": [
        "#### Create a dictionary or a function to encode the emotions"
      ],
      "id": "7d3bd640"
    },
    {
      "cell_type": "code",
      "metadata": {
        "id": "c0c8d44d"
      },
      "source": [
        "# YOUR CODE HERE"
      ],
      "id": "c0c8d44d",
      "execution_count": null,
      "outputs": []
    },
    {
      "cell_type": "markdown",
      "metadata": {
        "id": "coupled-villa"
      },
      "source": [
        "#### TESS data feature extraction"
      ],
      "id": "coupled-villa"
    },
    {
      "cell_type": "code",
      "metadata": {
        "id": "quarterly-adrian"
      },
      "source": [
        "# YOUR CODE HERE"
      ],
      "id": "quarterly-adrian",
      "execution_count": null,
      "outputs": []
    },
    {
      "cell_type": "markdown",
      "metadata": {
        "id": "qKzclsG-FnW6"
      },
      "source": [
        "#### Ravdess data feature extraction"
      ],
      "id": "qKzclsG-FnW6"
    },
    {
      "cell_type": "code",
      "metadata": {
        "id": "iDwNOgKEIH3w"
      },
      "source": [
        "# YOUR CODE HERE"
      ],
      "id": "iDwNOgKEIH3w",
      "execution_count": null,
      "outputs": []
    },
    {
      "cell_type": "markdown",
      "metadata": {
        "id": "2bb62f16"
      },
      "source": [
        "#### Save the features\n",
        "\n",
        "It is best advised to save the features in dataframe and maintain so that feature extraction step is not required to be performed every time.\n",
        "\n",
        "* Make a DataFrame with features and labels\n",
        "\n",
        "* Write dataframe into `.CSV` file and save it offline."
      ],
      "id": "2bb62f16"
    },
    {
      "cell_type": "code",
      "metadata": {
        "id": "9ec91c16"
      },
      "source": [
        "# YOUR CODE HERE"
      ],
      "id": "9ec91c16",
      "execution_count": null,
      "outputs": []
    },
    {
      "cell_type": "markdown",
      "metadata": {
        "id": "aggressive-cause"
      },
      "source": [
        "#### Split the data into train and test"
      ],
      "id": "aggressive-cause"
    },
    {
      "cell_type": "code",
      "metadata": {
        "id": "nearby-angle"
      },
      "source": [
        "# YOUR CODE HERE"
      ],
      "id": "nearby-angle",
      "execution_count": null,
      "outputs": []
    },
    {
      "cell_type": "markdown",
      "metadata": {
        "id": "ordered-weapon"
      },
      "source": [
        "### Train the model with TESS + Ravdess data (2 points)\n",
        "\n",
        "* Apply different ML algorithms (eg. DecisionTree, RandomForest, etc.) and find the model with best performance"
      ],
      "id": "ordered-weapon"
    },
    {
      "cell_type": "code",
      "metadata": {
        "id": "EtlfZmtWSD_X"
      },
      "source": [
        "# YOUR CODE HERE"
      ],
      "id": "EtlfZmtWSD_X",
      "execution_count": null,
      "outputs": []
    },
    {
      "cell_type": "markdown",
      "metadata": {
        "id": "returning-bones"
      },
      "source": [
        "#### Apply the voting classifier"
      ],
      "id": "returning-bones"
    },
    {
      "cell_type": "code",
      "metadata": {
        "id": "fuzzy-respondent"
      },
      "source": [
        "# YOUR CODE HERE"
      ],
      "id": "fuzzy-respondent",
      "execution_count": null,
      "outputs": []
    },
    {
      "cell_type": "markdown",
      "metadata": {
        "id": "6p1MHeY9oYqB"
      },
      "source": [
        "### Train the model with TESS + Ravdess + Team recorded data (4 points)\n",
        "\n",
        "* Record the audio samples (team data), extract features and combine with TESS + Ravdess data features\n",
        "  - Record and gather all the team data samples with proper naming convention in separate folder\n",
        "\n",
        "    **Hint:** Follow the supplementary notebook to record team data\n",
        "\n",
        "  - Each team member must record 2 samples for each emotion (Use similar sentences as given in TESS data)\n",
        "\n",
        "* Train the different ML algorithms and find the model with best performance"
      ],
      "id": "6p1MHeY9oYqB"
    },
    {
      "cell_type": "markdown",
      "metadata": {
        "id": "M4In88rvtVmb"
      },
      "source": [
        "#### Load the team data"
      ],
      "id": "M4In88rvtVmb"
    },
    {
      "cell_type": "code",
      "metadata": {
        "id": "nna7EZMRaKCI"
      },
      "source": [
        "# YOUR CODE HERE"
      ],
      "id": "nna7EZMRaKCI",
      "execution_count": null,
      "outputs": []
    },
    {
      "cell_type": "markdown",
      "metadata": {
        "id": "awnyYAic36V0"
      },
      "source": [
        "#### Extracting features of team data and combine with TESS + Ravdess"
      ],
      "id": "awnyYAic36V0"
    },
    {
      "cell_type": "code",
      "metadata": {
        "id": "15br8qPwa2a6"
      },
      "source": [
        "# YOUR CODE HERE"
      ],
      "id": "15br8qPwa2a6",
      "execution_count": null,
      "outputs": []
    },
    {
      "cell_type": "markdown",
      "metadata": {
        "id": "w-ulIdIdtkDB"
      },
      "source": [
        "#### Train the different ML algorithms"
      ],
      "id": "w-ulIdIdtkDB"
    },
    {
      "cell_type": "code",
      "metadata": {
        "id": "xuUx7UTFtjIs"
      },
      "source": [
        "# YOUR CODE HERE"
      ],
      "id": "xuUx7UTFtjIs",
      "execution_count": null,
      "outputs": []
    },
    {
      "cell_type": "markdown",
      "metadata": {
        "id": "iMl0sRhXtXzL"
      },
      "source": [
        "#### Test the best working model with live audio recording"
      ],
      "id": "iMl0sRhXtXzL"
    },
    {
      "cell_type": "code",
      "metadata": {
        "id": "4znf9-pcTbUB"
      },
      "source": [
        "# choose the best working model and assign below\n",
        "MODEL ="
      ],
      "id": "4znf9-pcTbUB",
      "execution_count": null,
      "outputs": []
    },
    {
      "cell_type": "code",
      "metadata": {
        "cellView": "form",
        "id": "2d598770"
      },
      "source": [
        "#@title Speak the utterance and test\n",
        "from IPython.display import Javascript\n",
        "from google.colab import output\n",
        "from base64 import b64decode\n",
        "\n",
        "RECORD = \"\"\"\n",
        "const sleep  = time => new Promise(resolve => setTimeout(resolve, time))\n",
        "const b2text = blob => new Promise(resolve => {\n",
        "  const reader = new FileReader()\n",
        "  reader.onloadend = e => resolve(e.srcElement.result)\n",
        "  reader.readAsDataURL(blob)\n",
        "})\n",
        "var record = time => new Promise(async resolve => {\n",
        "  stream = await navigator.mediaDevices.getUserMedia({ audio: true })\n",
        "  recorder = new MediaRecorder(stream)\n",
        "  chunks = []\n",
        "  recorder.ondataavailable = e => chunks.push(e.data)\n",
        "  recorder.start()\n",
        "  await sleep(time)\n",
        "  recorder.onstop = async ()=>{\n",
        "    blob = new Blob(chunks)\n",
        "    text = await b2text(blob)\n",
        "    resolve(text)\n",
        "  }\n",
        "  recorder.stop()\n",
        "})\n",
        "\"\"\"\n",
        "\n",
        "if not os.path.exists('ModelTesting/'):\n",
        "    os.mkdir(\"ModelTesting/\")\n",
        "def record(sec=3):\n",
        "    print(\"Start speaking!\")\n",
        "    now = datetime.now()\n",
        "    current_time = now.strftime(\"%Y-%m-%d_%H-%M-%S\")\n",
        "    display(Javascript(RECORD))\n",
        "    s = output.eval_js('record(%d)' % (sec*1000))\n",
        "    b = b64decode(s.split(',')[1])\n",
        "    with open('ModelTesting/audio_'+current_time+'.wav','wb') as f:\n",
        "        f.write(b)\n",
        "    return 'ModelTesting/audio_'+current_time+'.wav'\n",
        "test_i = record()\n",
        "pred = MODEL.predict(extract_feature(test_i).reshape(1,-1))\n",
        "idx_emotion = list(emotions.values()).index(pred[0])\n",
        "print(list(emotions.keys())[idx_emotion])\n",
        "ipd.Audio(test_i)"
      ],
      "id": "2d598770",
      "execution_count": null,
      "outputs": []
    },
    {
      "cell_type": "markdown",
      "metadata": {
        "id": "K7n58VaeWKGu"
      },
      "source": [
        "### Report Analysis\n",
        "\n",
        "- Report the accuracy for 10 live samples using the model trained on TESS+Ravdess+Team data\n",
        "- Discuss with the team mentor regarding deep learnt audio features. Read a related article [here](https://ieeexplore.ieee.org/stamp/stamp.jsp?arnumber=8805181).\n"
      ],
      "id": "K7n58VaeWKGu"
    }
  ]
}